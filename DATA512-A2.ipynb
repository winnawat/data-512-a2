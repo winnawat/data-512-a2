{
 "cells": [
  {
   "cell_type": "markdown",
   "metadata": {},
   "source": [
    "<center> <h1> DATA 516 HW2 </h1>\n",
    "<center> <h5> Win Nawat Suvansinpan </h5>"
   ]
  },
  {
   "cell_type": "markdown",
   "metadata": {},
   "source": [
    "The goal of this assignment is to look at Wikipedia articles on political figures from different countries while focusing on the bias within data. This is done by measuring the coverage and quality of Wikipedia articles on politicians across different countries.[[1](#appendix)]  \n",
    "**The data sources are:**\n",
    "- Politicians by Country from the English-language Wikipedia\n",
    "    -  Data on most English-language Wikipedia articles within the category \"Category:Politicians by nationality\" and subcategories, along with the code used to generate that data.\n",
    "    - https://figshare.com/articles/Untitled_Item/5513449\n",
    "- Population data\n",
    "    - Data on population size of countries in the world as of mid-2018\n",
    "    - https://www.prb.org/international/indicator/population/table/\n",
    "\n",
    "**Coverage and quality**  \n",
    "A machine learning service called [ORES](https://www.mediawiki.org/wiki/ORES) (Objective Revision Evaluation Service) is used to estimate the quality of each article. The tiers of qualities are:\n",
    "- FA - Featured article\n",
    "- GA - Good article\n",
    "- B - B-class article\n",
    "- C - C-class article\n",
    "- Start - Start-class article\n",
    "- Stub - Stub-class article"
   ]
  },
  {
   "cell_type": "code",
   "execution_count": 19,
   "metadata": {},
   "outputs": [],
   "source": [
    "import json\n",
    "import pandas as pd\n",
    "import requests"
   ]
  },
  {
   "cell_type": "markdown",
   "metadata": {},
   "source": [
    "## Part 1.1: Reading the data"
   ]
  },
  {
   "cell_type": "code",
   "execution_count": 20,
   "metadata": {},
   "outputs": [],
   "source": [
    "page_data_csv = pd.read_csv(\"page_data.csv\")\n",
    "WPDS_2018_data_csv = pd.read_csv(\"WPDS_2018_data.csv\")"
   ]
  },
  {
   "cell_type": "markdown",
   "metadata": {},
   "source": [
    "Looking at the head of the dataframes."
   ]
  },
  {
   "cell_type": "code",
   "execution_count": 21,
   "metadata": {},
   "outputs": [
    {
     "name": "stdout",
     "output_type": "stream",
     "text": [
      "                                 page   country     rev_id\n",
      "0  Template:ZambiaProvincialMinisters    Zambia  235107991\n",
      "1                      Bir I of Kanem      Chad  355319463\n",
      "2   Template:Zimbabwe-politician-stub  Zimbabwe  391862046\n",
      "3     Template:Uganda-politician-stub    Uganda  391862070\n",
      "4    Template:Namibia-politician-stub   Namibia  391862409\n",
      "df shape is (47197, 3)\n"
     ]
    }
   ],
   "source": [
    "print(page_data_csv.head())\n",
    "print(\"df shape is \" + str(page_data_csv.shape))"
   ]
  },
  {
   "cell_type": "code",
   "execution_count": 22,
   "metadata": {},
   "outputs": [
    {
     "name": "stdout",
     "output_type": "stream",
     "text": [
      "  Geography Population mid-2018 (millions)\n",
      "0    AFRICA                          1,284\n",
      "1   Algeria                           42.7\n",
      "2     Egypt                             97\n",
      "3     Libya                            6.5\n",
      "4   Morocco                           35.2\n",
      "df shape is (207, 2)\n"
     ]
    }
   ],
   "source": [
    "print(WPDS_2018_data_csv.head())\n",
    "print(\"df shape is \" + str(WPDS_2018_data_csv.shape))"
   ]
  },
  {
   "cell_type": "markdown",
   "metadata": {},
   "source": [
    "## Part 1.2: Cleaning the data\n",
    "As mentioned in the instructions [[2](#appendix)], both page_data.csv and WPDS_2018_data.csv contain some rows that will need to be filtered out and/or ignore.  \n",
    "- `page_data.csv` Pages that start with 'template' are _not_ Wikipedia articles.\n",
    "- `WPDS_2018_data.csv` Rows with its entire name in upper case under \"Geography\" are continents, not country."
   ]
  },
  {
   "cell_type": "markdown",
   "metadata": {},
   "source": [
    "### 1.2.1: Working on `page_data.csv`  \n",
    "Extracting rows _without_ the string \"Template:\" under \"page\".  \n",
    "- `.str.contains(somestring)` returns a boolean. It checks if the string contains _\"somestring\"_\n",
    "- The `~` is used to negate a boolean series since we only want FALSE results.\n",
    "- Calling the new dataframe `page_data`"
   ]
  },
  {
   "cell_type": "code",
   "execution_count": 23,
   "metadata": {},
   "outputs": [
    {
     "data": {
      "text/html": [
       "<div>\n",
       "<style scoped>\n",
       "    .dataframe tbody tr th:only-of-type {\n",
       "        vertical-align: middle;\n",
       "    }\n",
       "\n",
       "    .dataframe tbody tr th {\n",
       "        vertical-align: top;\n",
       "    }\n",
       "\n",
       "    .dataframe thead th {\n",
       "        text-align: right;\n",
       "    }\n",
       "</style>\n",
       "<table border=\"1\" class=\"dataframe\">\n",
       "  <thead>\n",
       "    <tr style=\"text-align: right;\">\n",
       "      <th></th>\n",
       "      <th>page</th>\n",
       "      <th>country</th>\n",
       "      <th>rev_id</th>\n",
       "    </tr>\n",
       "  </thead>\n",
       "  <tbody>\n",
       "    <tr>\n",
       "      <th>0</th>\n",
       "      <td>Bir I of Kanem</td>\n",
       "      <td>Chad</td>\n",
       "      <td>355319463</td>\n",
       "    </tr>\n",
       "    <tr>\n",
       "      <th>1</th>\n",
       "      <td>Information Minister of the Palestinian Nation...</td>\n",
       "      <td>Palestinian Territory</td>\n",
       "      <td>393276188</td>\n",
       "    </tr>\n",
       "    <tr>\n",
       "      <th>2</th>\n",
       "      <td>Yos Por</td>\n",
       "      <td>Cambodia</td>\n",
       "      <td>393822005</td>\n",
       "    </tr>\n",
       "    <tr>\n",
       "      <th>3</th>\n",
       "      <td>Julius Gregr</td>\n",
       "      <td>Czech Republic</td>\n",
       "      <td>395521877</td>\n",
       "    </tr>\n",
       "    <tr>\n",
       "      <th>4</th>\n",
       "      <td>Edvard Gregr</td>\n",
       "      <td>Czech Republic</td>\n",
       "      <td>395526568</td>\n",
       "    </tr>\n",
       "  </tbody>\n",
       "</table>\n",
       "</div>"
      ],
      "text/plain": [
       "                                                page                country  \\\n",
       "0                                     Bir I of Kanem                   Chad   \n",
       "1  Information Minister of the Palestinian Nation...  Palestinian Territory   \n",
       "2                                            Yos Por               Cambodia   \n",
       "3                                       Julius Gregr         Czech Republic   \n",
       "4                                       Edvard Gregr         Czech Republic   \n",
       "\n",
       "      rev_id  \n",
       "0  355319463  \n",
       "1  393276188  \n",
       "2  393822005  \n",
       "3  395521877  \n",
       "4  395526568  "
      ]
     },
     "execution_count": 23,
     "metadata": {},
     "output_type": "execute_result"
    }
   ],
   "source": [
    "page_data = page_data_csv[~page_data_csv[\"page\"].str.contains(\"Template:\")]\n",
    "page_data.reset_index(drop=True, inplace=True)\n",
    "\n",
    "# printing DF head to check results\n",
    "page_data.head()"
   ]
  },
  {
   "cell_type": "markdown",
   "metadata": {},
   "source": [
    "### 1.2.2: Working on `WPDS_2018_data.csv`  "
   ]
  },
  {
   "cell_type": "markdown",
   "metadata": {},
   "source": [
    "Removing rows with all uppercase string under \"Geography.\"  \n",
    "- For all cells with only uppercase letters, the last letter has to be an upper case.\n",
    "- For all country names with more than 1 letter, the last letter has to be a lower case.\n",
    "- Therefore, we only have to extract the last letter of the row \"Geography\" and check its case.\n",
    "- Extract all results that are TRUE for `.str.islower()`\n",
    "- Call the new dataframe `WPDS_2018_data`"
   ]
  },
  {
   "cell_type": "code",
   "execution_count": 24,
   "metadata": {},
   "outputs": [
    {
     "data": {
      "text/html": [
       "<div>\n",
       "<style scoped>\n",
       "    .dataframe tbody tr th:only-of-type {\n",
       "        vertical-align: middle;\n",
       "    }\n",
       "\n",
       "    .dataframe tbody tr th {\n",
       "        vertical-align: top;\n",
       "    }\n",
       "\n",
       "    .dataframe thead th {\n",
       "        text-align: right;\n",
       "    }\n",
       "</style>\n",
       "<table border=\"1\" class=\"dataframe\">\n",
       "  <thead>\n",
       "    <tr style=\"text-align: right;\">\n",
       "      <th></th>\n",
       "      <th>Geography</th>\n",
       "      <th>Population mid-2018 (millions)</th>\n",
       "    </tr>\n",
       "  </thead>\n",
       "  <tbody>\n",
       "    <tr>\n",
       "      <th>0</th>\n",
       "      <td>Algeria</td>\n",
       "      <td>42.7</td>\n",
       "    </tr>\n",
       "    <tr>\n",
       "      <th>1</th>\n",
       "      <td>Egypt</td>\n",
       "      <td>97</td>\n",
       "    </tr>\n",
       "    <tr>\n",
       "      <th>2</th>\n",
       "      <td>Libya</td>\n",
       "      <td>6.5</td>\n",
       "    </tr>\n",
       "    <tr>\n",
       "      <th>3</th>\n",
       "      <td>Morocco</td>\n",
       "      <td>35.2</td>\n",
       "    </tr>\n",
       "    <tr>\n",
       "      <th>4</th>\n",
       "      <td>Sudan</td>\n",
       "      <td>41.7</td>\n",
       "    </tr>\n",
       "  </tbody>\n",
       "</table>\n",
       "</div>"
      ],
      "text/plain": [
       "  Geography Population mid-2018 (millions)\n",
       "0   Algeria                           42.7\n",
       "1     Egypt                             97\n",
       "2     Libya                            6.5\n",
       "3   Morocco                           35.2\n",
       "4     Sudan                           41.7"
      ]
     },
     "execution_count": 24,
     "metadata": {},
     "output_type": "execute_result"
    }
   ],
   "source": [
    "WPDS_2018_data = WPDS_2018_data_csv[WPDS_2018_data_csv[\"Geography\"].str[-1].str.islower()]\n",
    "WPDS_2018_data.reset_index(drop=True, inplace=True)\n",
    "\n",
    "# printing DF head to check results\n",
    "WPDS_2018_data.head()"
   ]
  },
  {
   "cell_type": "code",
   "execution_count": 25,
   "metadata": {},
   "outputs": [
    {
     "data": {
      "text/html": [
       "<div>\n",
       "<style scoped>\n",
       "    .dataframe tbody tr th:only-of-type {\n",
       "        vertical-align: middle;\n",
       "    }\n",
       "\n",
       "    .dataframe tbody tr th {\n",
       "        vertical-align: top;\n",
       "    }\n",
       "\n",
       "    .dataframe thead th {\n",
       "        text-align: right;\n",
       "    }\n",
       "</style>\n",
       "<table border=\"1\" class=\"dataframe\">\n",
       "  <thead>\n",
       "    <tr style=\"text-align: right;\">\n",
       "      <th></th>\n",
       "      <th>Geography</th>\n",
       "      <th>Population mid-2018 (millions)</th>\n",
       "    </tr>\n",
       "  </thead>\n",
       "  <tbody>\n",
       "    <tr>\n",
       "      <th>0</th>\n",
       "      <td>AFRICA</td>\n",
       "      <td>1,284</td>\n",
       "    </tr>\n",
       "    <tr>\n",
       "      <th>1</th>\n",
       "      <td>NORTHERN AMERICA</td>\n",
       "      <td>365</td>\n",
       "    </tr>\n",
       "    <tr>\n",
       "      <th>2</th>\n",
       "      <td>LATIN AMERICA AND THE CARIBBEAN</td>\n",
       "      <td>649</td>\n",
       "    </tr>\n",
       "    <tr>\n",
       "      <th>3</th>\n",
       "      <td>ASIA</td>\n",
       "      <td>4,536</td>\n",
       "    </tr>\n",
       "    <tr>\n",
       "      <th>4</th>\n",
       "      <td>EUROPE</td>\n",
       "      <td>746</td>\n",
       "    </tr>\n",
       "    <tr>\n",
       "      <th>5</th>\n",
       "      <td>OCEANIA</td>\n",
       "      <td>41</td>\n",
       "    </tr>\n",
       "  </tbody>\n",
       "</table>\n",
       "</div>"
      ],
      "text/plain": [
       "                         Geography Population mid-2018 (millions)\n",
       "0                           AFRICA                          1,284\n",
       "1                 NORTHERN AMERICA                            365\n",
       "2  LATIN AMERICA AND THE CARIBBEAN                            649\n",
       "3                             ASIA                          4,536\n",
       "4                           EUROPE                            746\n",
       "5                          OCEANIA                             41"
      ]
     },
     "execution_count": 25,
     "metadata": {},
     "output_type": "execute_result"
    }
   ],
   "source": [
    "# sanity check on all .isupper() results. Expect all regional names instead of countries.\n",
    "# save that as WPDS_2018_data_region\n",
    "WPDS_2018_data_region = WPDS_2018_data_csv[WPDS_2018_data_csv[\"Geography\"].str[-1].str.isupper()]\n",
    "WPDS_2018_data_region.reset_index(drop=True, inplace=True)\n",
    "\n",
    "WPDS_2018_data_region.head(10)"
   ]
  },
  {
   "cell_type": "markdown",
   "metadata": {},
   "source": [
    "## Part 2: ORES results on article quality\n",
    "Steps to obtain the ORES' prediction of article quality is taken from this [Github page](https://github.com/Ironholds/data-512-a2/)"
   ]
  },
  {
   "cell_type": "code",
   "execution_count": 26,
   "metadata": {},
   "outputs": [],
   "source": [
    "headers = {'User-Agent' : 'https://github.com/winnawat', 'From' : 'nawats@uw.edu'}\n",
    "\n",
    "def get_ores_data(revision_ids, headers):\n",
    "    '''\n",
    "    This function retrieves ORES data given a list of revisin IDs.\n",
    "    Function taken from https://github.com/Ironholds/data-512-a2/blob/master/hcds-a2-bias_demo.ipynb\n",
    "    '''\n",
    "    \n",
    "    # Define the endpoint\n",
    "    endpoint = 'https://ores.wikimedia.org/v3/scores/{project}/?models={model}&revids={revids}'\n",
    "    \n",
    "    # Specify the parameters - smushing all the revision IDs together separated by | marks.\n",
    "    params = {'project' : 'enwiki',\n",
    "              'model'   : 'wp10',\n",
    "              'revids'  : '|'.join(str(x) for x in revision_ids)\n",
    "              }\n",
    "    api_call = requests.get(endpoint.format(**params))\n",
    "    response = api_call.json()\n",
    "    return response"
   ]
  },
  {
   "cell_type": "code",
   "execution_count": 223,
   "metadata": {},
   "outputs": [],
   "source": [
    "example_ids = [783381498, 807355596, 757539710]\n",
    "ores_json = get_ores_data(example_ids, headers)"
   ]
  },
  {
   "cell_type": "code",
   "execution_count": 27,
   "metadata": {},
   "outputs": [],
   "source": [
    "def get_prediction_from_ores(revision_ids,ores_response):\n",
    "    '''\n",
    "    A function to extract \"prediction\" from the JSON output given by function get_ores_data\n",
    "    Returns a dataframe with columns ['rev_id','prediction']\n",
    "    '''\n",
    "    predictions = {}\n",
    "    for revid in revision_ids:\n",
    "        try:\n",
    "            predictions[revid] = ores_response['enwiki']['scores'][str(revid)]['wp10']['score']['prediction']\n",
    "        except KeyError:\n",
    "            predictions[revid] = \"No prediction\"\n",
    "        \n",
    "    pred_df = pd.DataFrame.from_dict(predictions, orient='index', columns=[\"prediction\"])\n",
    "    pred_df.reset_index(inplace=True)\n",
    "    pred_df.rename(columns={\"index\":\"rev_id\"},inplace=True)\n",
    "    return pred_df"
   ]
  },
  {
   "cell_type": "markdown",
   "metadata": {},
   "source": [
    "The rev_ids are contained in the dataframe `page_data`. Extracting the list of rev_ids to pass to `get_ores_data` and `get_prediction_from_ores`"
   ]
  },
  {
   "cell_type": "code",
   "execution_count": 73,
   "metadata": {},
   "outputs": [],
   "source": [
    "rev_ids = page_data['rev_id'].tolist()\n",
    "\n",
    "# getting the idex of the last element of the list of rev_ids\n",
    "last_id = len(rev_ids)\n",
    "\n",
    "def make_api_calls(last_id, savecsv=True, filename=\"predictions.csv\"):\n",
    "    pred_df = pd.DataFrame(columns=['rev_id', 'prediction'])\n",
    "    for i in range(100,last_id,100):\n",
    "        subset_rev_ids = rev_ids[i-100:i]\n",
    "        ores_json = get_ores_data(subset_rev_ids, headers)\n",
    "        df1 = get_prediction_from_ores(subset_rev_ids, ores_json)\n",
    "        pred_df = pred_df.append(df1)\n",
    "    pred_df.reset_index(drop=True, inplace=True)\n",
    "    if (savecsv == True):\n",
    "        pred_df.to_csv(filename)\n",
    "    else:\n",
    "        return pred_df"
   ]
  },
  {
   "cell_type": "code",
   "execution_count": 74,
   "metadata": {},
   "outputs": [],
   "source": [
    "# saving this as a csv so the loop does not have to be re-run\n",
    "# this has to be run once. From now on the ores predictions will be read from CSV.\n",
    "\n",
    "# make_api_calls(last_id)"
   ]
  },
  {
   "cell_type": "markdown",
   "metadata": {},
   "source": [
    "## Part 3: Merging the data\n",
    "The CSV generated from above is read and merged with the existing data frames."
   ]
  },
  {
   "cell_type": "code",
   "execution_count": 115,
   "metadata": {},
   "outputs": [],
   "source": [
    "predictions_csv = pd.read_csv(\"predictions.csv\")\n",
    "predictions = predictions_csv.drop(columns=['Unnamed: 0'])\n",
    "page_data_pred = pd.merge(page_data, predictions, on='rev_id')"
   ]
  },
  {
   "cell_type": "code",
   "execution_count": 117,
   "metadata": {},
   "outputs": [
    {
     "data": {
      "text/html": [
       "<div>\n",
       "<style scoped>\n",
       "    .dataframe tbody tr th:only-of-type {\n",
       "        vertical-align: middle;\n",
       "    }\n",
       "\n",
       "    .dataframe tbody tr th {\n",
       "        vertical-align: top;\n",
       "    }\n",
       "\n",
       "    .dataframe thead th {\n",
       "        text-align: right;\n",
       "    }\n",
       "</style>\n",
       "<table border=\"1\" class=\"dataframe\">\n",
       "  <thead>\n",
       "    <tr style=\"text-align: right;\">\n",
       "      <th></th>\n",
       "      <th>page</th>\n",
       "      <th>country</th>\n",
       "      <th>rev_id</th>\n",
       "      <th>prediction</th>\n",
       "    </tr>\n",
       "  </thead>\n",
       "  <tbody>\n",
       "    <tr>\n",
       "      <th>46695</th>\n",
       "      <td>Hal Bidlack</td>\n",
       "      <td>United States</td>\n",
       "      <td>807481636</td>\n",
       "      <td>C</td>\n",
       "    </tr>\n",
       "    <tr>\n",
       "      <th>46696</th>\n",
       "      <td>Yahya Jammeh</td>\n",
       "      <td>Gambia</td>\n",
       "      <td>807482007</td>\n",
       "      <td>GA</td>\n",
       "    </tr>\n",
       "    <tr>\n",
       "      <th>46697</th>\n",
       "      <td>Lucius Fairchild</td>\n",
       "      <td>United States</td>\n",
       "      <td>807483006</td>\n",
       "      <td>C</td>\n",
       "    </tr>\n",
       "    <tr>\n",
       "      <th>46698</th>\n",
       "      <td>Fahd of Saudi Arabia</td>\n",
       "      <td>Saudi Arabia</td>\n",
       "      <td>807483153</td>\n",
       "      <td>GA</td>\n",
       "    </tr>\n",
       "    <tr>\n",
       "      <th>46699</th>\n",
       "      <td>Francis Fessenden</td>\n",
       "      <td>United States</td>\n",
       "      <td>807483270</td>\n",
       "      <td>C</td>\n",
       "    </tr>\n",
       "  </tbody>\n",
       "</table>\n",
       "</div>"
      ],
      "text/plain": [
       "                       page        country     rev_id prediction\n",
       "46695           Hal Bidlack  United States  807481636          C\n",
       "46696          Yahya Jammeh         Gambia  807482007         GA\n",
       "46697      Lucius Fairchild  United States  807483006          C\n",
       "46698  Fahd of Saudi Arabia   Saudi Arabia  807483153         GA\n",
       "46699     Francis Fessenden  United States  807483270          C"
      ]
     },
     "execution_count": 117,
     "metadata": {},
     "output_type": "execute_result"
    }
   ],
   "source": [
    "page_data_pred.tail()"
   ]
  },
  {
   "cell_type": "code",
   "execution_count": null,
   "metadata": {},
   "outputs": [],
   "source": []
  },
  {
   "cell_type": "markdown",
   "metadata": {},
   "source": [
    "## Appendix\n",
    "<a id='appendix'></a>\n",
    "[1]: DATA516 Course wiki, A2 assignment: https://wiki.communitydata.science/Human_Centered_Data_Science_(Fall_2019)/Assignments#A2:_Bias_in_data"
   ]
  },
  {
   "cell_type": "code",
   "execution_count": null,
   "metadata": {},
   "outputs": [],
   "source": []
  }
 ],
 "metadata": {
  "kernelspec": {
   "display_name": "Python 3",
   "language": "python",
   "name": "python3"
  },
  "language_info": {
   "codemirror_mode": {
    "name": "ipython",
    "version": 3
   },
   "file_extension": ".py",
   "mimetype": "text/x-python",
   "name": "python",
   "nbconvert_exporter": "python",
   "pygments_lexer": "ipython3",
   "version": "3.6.7"
  }
 },
 "nbformat": 4,
 "nbformat_minor": 2
}
